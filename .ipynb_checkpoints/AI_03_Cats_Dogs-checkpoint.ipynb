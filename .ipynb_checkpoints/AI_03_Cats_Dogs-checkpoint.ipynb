{
 "cells": [
  {
   "cell_type": "markdown",
   "id": "9cb7ce2c",
   "metadata": {},
   "source": [
    "# 1: Сортировка фото кошек и собак с помощью нейронной сети"
   ]
  },
  {
   "cell_type": "markdown",
   "id": "245adc3c",
   "metadata": {},
   "source": [
    "Подгружаем нужные библиотеки"
   ]
  },
  {
   "cell_type": "code",
   "execution_count": 1,
   "id": "6289c6f1",
   "metadata": {},
   "outputs": [],
   "source": [
    "# Импорт библиотеки TensorFlow под псевдонимом tf\n",
    "import tensorflow as tf  \n",
    "# Импорт модуля ImageDataGenerator для аугментации изображений\n",
    "from tensorflow.keras.preprocessing.image import ImageDataGenerator  \n",
    "# Импорт класса Model для создания модели нейронной сети\n",
    "from tensorflow.keras.models import Model  \n",
    "# Импорт слоев для построения нейронной сети\n",
    "from tensorflow.keras.layers import Input, Flatten, Dense, Dropout, GlobalAveragePooling2D\n",
    "# Импорт предварительно обученной модели MobileNet и функции для предварительной \n",
    "# обработки входных данных  \n",
    "from tensorflow.keras.applications.mobilenet import MobileNet, preprocess_input  \n",
    "# Импорт модуля для предварительной обработки изображений\n",
    "from tensorflow.keras.preprocessing import image  \n",
    "# Импорт модуля для математических операций\n",
    "import math  \n",
    "# Импорт библиотеки Matplotlib для визуализации данных\n",
    "import matplotlib.pyplot as plt  \n",
    "# Импорт библиотеки NumPy для работы с массивами\n",
    "import numpy as np\n",
    "# Импорт модуля Image из библиотеки Pillow для работы с изображениями  \n",
    "from PIL import Image\n"
   ]
  },
  {
   "cell_type": "markdown",
   "id": "e20a4def",
   "metadata": {},
   "source": [
    "**Скачиваем файлы:** https://disk.yandex.ru/d/OYYCfSzhfRcw8w \\\n",
    "Файлы уже отсортированы по папкам: \\\n",
    "– в папке ${\\bf train}$ файлы для обучения нейросети \\\n",
    "– в папке ${\\bf test}$ файлы для проверки нейросети \\\n",
    "Внутри этих папок есть папки ${\\bf cats}$ и ${\\bf dogs}$, где собрано несколько десятков фотографий с кошками и собаками. \\\n",
    " \\\n",
    "${\\bf Ответьте~на~вопрос:~для~чего~нужны~константы,~которые~вводятся~ниже?}$"
   ]
  },
  {
   "cell_type": "code",
   "execution_count": 2,
   "id": "e7a1840b",
   "metadata": {},
   "outputs": [],
   "source": [
    "TRAIN_DATA_DIR = 'train'  # Путь к каталогу с обучающими данными\n",
    "VALIDATION_DATA_DIR = 'test'  # Путь к каталогу с данными для валидации\n",
    "TRAIN_SAMPLES = 1000  # Общее количество обучающих примеров\n",
    "VALIDATION_SAMPLES = 200  # Общее количество примеров для валидации\n",
    "NUM_CLASSES = 2  # Количество классов (в данном случае два класса: 'кошки' и 'собаки')\n",
    "IMG_WIDTH, IMG_HEIGHT = 224, 224  # Размеры изображений (ширина и высота)\n",
    "BATCH_SIZE = 5  # Размер пакета для обучения модели (количество образцов, обрабатываемых моделью за один шаг обучения)\n"
   ]
  },
  {
   "cell_type": "markdown",
   "id": "68bd0e80",
   "metadata": {},
   "source": [
    "Создаются два генератора данных. Для обучения нейросети недостаточно пары сотен фотографий. \\\n",
    "Поэтому будет использоваться такой приём как ${\\bf аргументация}$ (что это?)"
   ]
  },
  {
   "cell_type": "code",
   "execution_count": 3,
   "id": "2d87b6a4",
   "metadata": {},
   "outputs": [],
   "source": [
    "train_datagen = ImageDataGenerator(  # Создание генератора данных для обучения\n",
    "    preprocessing_function=preprocess_input,  # Предварительная обработка изображений (в данном случае с использованием функции preprocess_input)\n",
    "    rotation_range=20,  # Диапазон вращения изображений (от -20 до 20 градусов)\n",
    "    width_shift_range=0.2,  # Диапазон сдвига изображений по горизонтали (относительно ширины изображения)\n",
    "    height_shift_range=0.2,  # Диапазон сдвига изображений по вертикали (относительно высоты изображения)\n",
    "    zoom_range=0.2  # Диапазон масштабирования изображений (от 0.8 до 1.2)\n",
    ")\n",
    "\n",
    "val_datagen = ImageDataGenerator(  # Создание генератора данных для валидации\n",
    "    preprocessing_function=preprocess_input  # Предварительная обработка изображений (в данном случае с использованием функции preprocess_input)\n",
    ")\n"
   ]
  },
  {
   "cell_type": "code",
   "execution_count": 4,
   "id": "c2f2749e",
   "metadata": {},
   "outputs": [
    {
     "name": "stdout",
     "output_type": "stream",
     "text": [
      "Found 599 images belonging to 2 classes.\n",
      "Found 151 images belonging to 2 classes.\n"
     ]
    }
   ],
   "source": [
    "train_generator = train_datagen.flow_from_directory(\n",
    "    TRAIN_DATA_DIR,  # Путь к каталогу с обучающими данными\n",
    "    target_size=(IMG_WIDTH, IMG_HEIGHT),  # Желаемый размер изображений (ширина, высота)\n",
    "    batch_size=BATCH_SIZE,  # Размер пакета для обучения модели\n",
    "    shuffle=True,  # Перемешивание данных после каждой эпохи\n",
    "    seed=12345,  # Задание начального состояния для генератора случайных чисел (для воспроизводимости)\n",
    "    class_mode='categorical'  # Режим классификации (в данном случае многоклассовая классификация)\n",
    ")\n",
    "\n",
    "validation_generator = val_datagen.flow_from_directory(\n",
    "    VALIDATION_DATA_DIR,  # Путь к каталогу с данными для валидации\n",
    "    target_size=(IMG_WIDTH, IMG_HEIGHT),  # Желаемый размер изображений (ширина, высота)\n",
    "    batch_size=BATCH_SIZE,  # Размер пакета для валидации модели\n",
    "    shuffle=False,  # Не перемешивать данные (для сохранения порядка)\n",
    "    class_mode='categorical'  # Режим классификации (в данном случае многоклассовая классификация)\n",
    ")\n"
   ]
  },
  {
   "cell_type": "markdown",
   "id": "a0564291",
   "metadata": {},
   "source": [
    "# Создание модели на основе нейронной сети, которая основана на готовой нейронной сети MobileNet (она называется базовой моделью). \n",
    "В базовой модели нужно отключить обучение (для всех слоев устанавливается **trainable = False**). \\\n",
    "Входное изображение поступает на вход базовой модели. \\\n",
    "После базовой модели добавляется несколько своих слоев: \\\n",
    "– слой пулинга **GlobalAveragePooling2D**; \\\n",
    "– полносвязный слой из **16 нейронов Dense**; \\\n",
    "– используется механизм Дропаут (случайное отключение нейронных связей во время обучения); \\\n",
    "– последний слой должен выдавать два значения (вероятности того, что на фото кошка или собака – два класса). \\\n",
    "Таким образом мы решаем задачу двухклассовой классификации."
   ]
  },
  {
   "cell_type": "code",
   "execution_count": 5,
   "id": "02eb798c",
   "metadata": {},
   "outputs": [],
   "source": [
    "def model_maker():\n",
    "    # Создание базовой модели MobileNet без верхнего слоя классификации,\n",
    "    # указывается форма входных данных (ширина, высота, количество каналов)\n",
    "    base_model = MobileNet(include_top=False, input_shape=(IMG_WIDTH, IMG_HEIGHT, 3))\n",
    "    \n",
    "    # Замораживаем веса всех слоев базовой модели, чтобы они не обучались\n",
    "    for layer in base_model.layers[:]:\n",
    "        layer.trainable = False\n",
    "    \n",
    "    # Определение входного тензора модели\n",
    "    input = Input(shape=(IMG_WIDTH, IMG_HEIGHT, 3))\n",
    "    \n",
    "    # Пропуск данных через базовую модель\n",
    "    custom_model = base_model(input)\n",
    "    \n",
    "    # Глобальное пулингование для уменьшения размерности признаков\n",
    "    custom_model = GlobalAveragePooling2D()(custom_model)\n",
    "    \n",
    "    # Полносвязный слой с 16 нейронами и функцией активации ReLU\n",
    "    custom_model = Dense(16, activation='relu')(custom_model)\n",
    "    \n",
    "    # Слой регуляризации для предотвращения переобучения\n",
    "    custom_model = Dropout(0.25)(custom_model)\n",
    "    \n",
    "    # Выходной слой с NUM_CLASSES нейронами и функцией активации softmax для многоклассовой классификации\n",
    "    predictions = Dense(NUM_CLASSES, activation='softmax')(custom_model)\n",
    "    \n",
    "    # Создание модели с заданными входом и выходом\n",
    "    return Model(inputs=input, outputs=predictions)\n"
   ]
  },
  {
   "cell_type": "markdown",
   "id": "1e943994",
   "metadata": {},
   "source": [
    "Компилируем и обучаем модель."
   ]
  },
  {
   "cell_type": "code",
   "execution_count": 10,
   "id": "dd0e0ec4",
   "metadata": {},
   "outputs": [
    {
     "name": "stdout",
     "output_type": "stream",
     "text": [
      "Epoch 1/15\n"
     ]
    },
    {
     "name": "stderr",
     "output_type": "stream",
     "text": [
      "D:\\Anaconda\\Lib\\site-packages\\keras\\src\\trainers\\data_adapters\\py_dataset_adapter.py:121: UserWarning: Your `PyDataset` class should call `super().__init__(**kwargs)` in its constructor. `**kwargs` can include `workers`, `use_multiprocessing`, `max_queue_size`. Do not pass these arguments to `fit()`, as they will be ignored.\n",
      "  self._warn_if_super_not_called()\n"
     ]
    },
    {
     "name": "stdout",
     "output_type": "stream",
     "text": [
      "\u001b[1m120/200\u001b[0m \u001b[32m━━━━━━━━━━━━\u001b[0m\u001b[37m━━━━━━━━\u001b[0m \u001b[1m14s\u001b[0m 181ms/step - acc: 0.7466 - loss: 0.5337"
     ]
    },
    {
     "name": "stderr",
     "output_type": "stream",
     "text": [
      "D:\\Anaconda\\Lib\\contextlib.py:158: UserWarning: Your input ran out of data; interrupting training. Make sure that your dataset or generator can generate at least `steps_per_epoch * epochs` batches. You may need to use the `.repeat()` function when building your dataset.\n",
      "  self.gen.throw(typ, value, traceback)\n"
     ]
    },
    {
     "name": "stdout",
     "output_type": "stream",
     "text": [
      "\u001b[1m200/200\u001b[0m \u001b[32m━━━━━━━━━━━━━━━━━━━━\u001b[0m\u001b[37m\u001b[0m \u001b[1m31s\u001b[0m 136ms/step - acc: 0.7852 - loss: 0.4565 - val_acc: 0.9603 - val_loss: 0.1245\n",
      "Epoch 2/15\n",
      "\u001b[1m200/200\u001b[0m \u001b[32m━━━━━━━━━━━━━━━━━━━━\u001b[0m\u001b[37m\u001b[0m \u001b[1m28s\u001b[0m 137ms/step - acc: 0.9346 - loss: 0.1469 - val_acc: 0.9073 - val_loss: 0.2007\n",
      "Epoch 3/15\n",
      "\u001b[1m200/200\u001b[0m \u001b[32m━━━━━━━━━━━━━━━━━━━━\u001b[0m\u001b[37m\u001b[0m \u001b[1m29s\u001b[0m 139ms/step - acc: 0.9567 - loss: 0.1121 - val_acc: 0.9404 - val_loss: 0.1094\n",
      "Epoch 4/15\n",
      "\u001b[1m200/200\u001b[0m \u001b[32m━━━━━━━━━━━━━━━━━━━━\u001b[0m\u001b[37m\u001b[0m \u001b[1m29s\u001b[0m 140ms/step - acc: 0.9565 - loss: 0.0948 - val_acc: 0.9272 - val_loss: 0.1779\n",
      "Epoch 5/15\n",
      "\u001b[1m200/200\u001b[0m \u001b[32m━━━━━━━━━━━━━━━━━━━━\u001b[0m\u001b[37m\u001b[0m \u001b[1m28s\u001b[0m 136ms/step - acc: 0.9742 - loss: 0.0781 - val_acc: 0.9338 - val_loss: 0.1681\n",
      "Epoch 6/15\n",
      "\u001b[1m200/200\u001b[0m \u001b[32m━━━━━━━━━━━━━━━━━━━━\u001b[0m\u001b[37m\u001b[0m \u001b[1m27s\u001b[0m 127ms/step - acc: 0.9776 - loss: 0.0867 - val_acc: 0.9603 - val_loss: 0.0987\n",
      "Epoch 7/15\n",
      "\u001b[1m200/200\u001b[0m \u001b[32m━━━━━━━━━━━━━━━━━━━━\u001b[0m\u001b[37m\u001b[0m \u001b[1m27s\u001b[0m 132ms/step - acc: 0.9728 - loss: 0.0844 - val_acc: 0.9801 - val_loss: 0.0728\n",
      "Epoch 8/15\n",
      "\u001b[1m200/200\u001b[0m \u001b[32m━━━━━━━━━━━━━━━━━━━━\u001b[0m\u001b[37m\u001b[0m \u001b[1m28s\u001b[0m 133ms/step - acc: 0.9803 - loss: 0.0536 - val_acc: 0.9536 - val_loss: 0.0865\n",
      "Epoch 9/15\n",
      "\u001b[1m200/200\u001b[0m \u001b[32m━━━━━━━━━━━━━━━━━━━━\u001b[0m\u001b[37m\u001b[0m \u001b[1m26s\u001b[0m 128ms/step - acc: 0.9838 - loss: 0.0477 - val_acc: 0.9735 - val_loss: 0.0733\n",
      "Epoch 10/15\n",
      "\u001b[1m200/200\u001b[0m \u001b[32m━━━━━━━━━━━━━━━━━━━━\u001b[0m\u001b[37m\u001b[0m \u001b[1m26s\u001b[0m 129ms/step - acc: 0.9960 - loss: 0.0324 - val_acc: 0.9272 - val_loss: 0.2219\n",
      "Epoch 11/15\n",
      "\u001b[1m200/200\u001b[0m \u001b[32m━━━━━━━━━━━━━━━━━━━━\u001b[0m\u001b[37m\u001b[0m \u001b[1m26s\u001b[0m 128ms/step - acc: 0.9920 - loss: 0.0323 - val_acc: 0.9272 - val_loss: 0.2049\n",
      "Epoch 12/15\n",
      "\u001b[1m200/200\u001b[0m \u001b[32m━━━━━━━━━━━━━━━━━━━━\u001b[0m\u001b[37m\u001b[0m \u001b[1m27s\u001b[0m 131ms/step - acc: 0.9767 - loss: 0.0596 - val_acc: 0.9801 - val_loss: 0.0828\n",
      "Epoch 13/15\n",
      "\u001b[1m200/200\u001b[0m \u001b[32m━━━━━━━━━━━━━━━━━━━━\u001b[0m\u001b[37m\u001b[0m \u001b[1m27s\u001b[0m 129ms/step - acc: 0.9782 - loss: 0.0751 - val_acc: 0.9272 - val_loss: 0.1928\n",
      "Epoch 14/15\n",
      "\u001b[1m200/200\u001b[0m \u001b[32m━━━━━━━━━━━━━━━━━━━━\u001b[0m\u001b[37m\u001b[0m \u001b[1m27s\u001b[0m 130ms/step - acc: 0.9826 - loss: 0.0347 - val_acc: 0.9338 - val_loss: 0.1733\n",
      "Epoch 15/15\n",
      "\u001b[1m200/200\u001b[0m \u001b[32m━━━━━━━━━━━━━━━━━━━━\u001b[0m\u001b[37m\u001b[0m \u001b[1m26s\u001b[0m 124ms/step - acc: 0.9713 - loss: 0.0491 - val_acc: 0.9139 - val_loss: 0.2184\n"
     ]
    }
   ],
   "source": [
    "model = model_maker()  # Создание модели нейронной сети с помощью функции model_maker()\n",
    "\n",
    "model.compile(loss='categorical_crossentropy',  # Функция потерь - категориальная перекрестная энтропия\n",
    "              optimizer=tf.keras.optimizers.Adam(learning_rate=0.001),  # Оптимизатор - Adam с коэффициентом скорости обучения 0.001\n",
    "              metrics=['acc'])  # Метрика для оценки производительности модели - точность классификации\n",
    "\n",
    "num_steps = math.ceil(float(TRAIN_SAMPLES) / BATCH_SIZE)  # Вычисление количества шагов обучения\n",
    "\n",
    "history = model.fit(train_generator,  # Обучение модели на обучающих данных\n",
    "                steps_per_epoch=num_steps,  # Количество шагов обучения\n",
    "                epochs=15,  # Количество эпох обучения\n",
    "                validation_data=validation_generator,  # Данные для валидации модели\n",
    "                validation_steps=num_steps)  # Количество шагов валидации"
   ]
  },
  {
   "cell_type": "markdown",
   "id": "784d81cc",
   "metadata": {},
   "source": [
    "Построим график."
   ]
  },
  {
   "cell_type": "code",
   "execution_count": 18,
   "id": "21fd9e77",
   "metadata": {},
   "outputs": [
    {
     "data": {
      "image/png": "[encoded data removed]",
      "text/plain": [
       "<Figure size 640x480 with 1 Axes>"
      ]
     },
     "metadata": {},
     "output_type": "display_data"
    }
   ],
   "source": [
    "loss_function = history.history['loss']  # Получение значений функции потерь на обучающем наборе данных из истории обучения\n",
    "val_loss_function = history.history['val_loss']  # Получение значений функции потерь на валидационном наборе данных из истории обучения\n",
    "epochs = range(1, len(loss_function) + 1)  # Создание списка эпох для оси x\n",
    "\n",
    "plt.title('Losses')  # Заголовок графика\n",
    "plt.plot(epochs, loss_function, color='blue', label='Потери в обучающей выборке')  # График функции потерь на обучающем наборе\n",
    "plt.plot(epochs, val_loss_function, color='red', label='Потери в валидационной выборке')  # График функции потерь на валидационном наборе\n",
    "plt.xlabel('Epoch')  # Подпись оси x\n",
    "plt.ylabel('Loss value')  # Подпись оси y\n",
    "plt.legend()  # Добавление легенды\n",
    "plt.show()  # Отображение графика\n",
    "\n",
    "\n"
   ]
  },
  {
   "cell_type": "markdown",
   "id": "ccfe2d7a",
   "metadata": {},
   "source": [
    "Визуализация функции потерь позволяет оценить эффективность обучения модели: мы стремимся к тому, чтобы функция потерь на обучающем и валидационном наборах данных уменьшалась с каждой эпохой, что свидетельствует о том, что модель обучается эффективно и не переобучается. \\\n",
    "Теперь модель можно использовать и проверить, как она работает."
   ]
  },
  {
   "cell_type": "code",
   "execution_count": null,
   "id": "7ddb56f4-9170-4442-b44f-c0906732c2e4",
   "metadata": {},
   "outputs": [],
   "source": [
    "import os  # Импорт модуля os для работы с файловой системой\n",
    "import random  # Импорт модуля random для работы с случайными числами\n",
    "\n",
    "categ = ['cat', 'dog']  # Список категорий: 'cat' - кошка, 'dog' - собака\n",
    "files = []  # Пустой список для хранения путей к изображениям\n",
    "\n",
    "# Перебор всех файлов в каталоге с кошками и добавление путей в список files\n",
    "for root, dirs, filenames in os.walk('test/cats'):\n",
    "    for filename in filenames:\n",
    "        files.append(os.path.join(root, filename))\n",
    "\n",
    "# Перебор всех файлов в каталоге с собаками и добавление путей в список files\n",
    "for root, dirs, filenames in os.walk('test/dogs'):\n",
    "    for filename in filenames:\n",
    "        files.append(os.path.join(root, filename))\n",
    "\n",
    "# Выбор случайных 10 изображений из списка files и их отображение с предсказанием модели\n",
    "for f in random.sample(files, 10):\n",
    "    img_path = f  # Путь к изображению\n",
    "    img = image.load_img(img_path, target_size=(224,224))  # Загрузка изображения с изменением размера до 224x224 пикселя\n",
    "    img_array = image.img_to_array(img)  # Преобразование изображения в массив numpy\n",
    "\n",
    "    expanded_img_array = np.expand_dims(img_array, axis=0)  # Расширение массива изображения\n",
    "    preprocessed_img = preprocess_input(expanded_img_array)  # Предварительная обработка изображения\n",
    "    prediction = model.predict(preprocessed_img)  # Получение предсказания от модели\n",
    "    \n",
    "    plt.title(categ[np.argmax(prediction)])  # Установка заголовка графика в соответствии с предсказанием модели\n",
    "    plt.imshow(img)  # Отображение изображения\n",
    "    plt.show()  # Показ графика"
   ]
  }
 ],
 "metadata": {
  "kernelspec": {
   "display_name": "Python 3 (ipykernel)",
   "language": "python",
   "name": "python3"
  },
  "language_info": {
   "codemirror_mode": {
    "name": "ipython",
    "version": 3
   },
   "file_extension": ".py",
   "mimetype": "text/x-python",
   "name": "python",
   "nbconvert_exporter": "python",
   "pygments_lexer": "ipython3",
   "version": "3.11.7"
  }
 },
 "nbformat": 4,
 "nbformat_minor": 5
}
